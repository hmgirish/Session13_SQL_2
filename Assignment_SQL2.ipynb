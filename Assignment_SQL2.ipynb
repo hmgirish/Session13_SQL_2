{
 "cells": [
  {
   "cell_type": "markdown",
   "metadata": {},
   "source": [
    "Two function queries:\n",
    "    \n",
    "a) using LENGTH function"
   ]
  },
  {
   "cell_type": "code",
   "execution_count": 17,
   "metadata": {},
   "outputs": [
    {
     "name": "stdout",
     "output_type": "stream",
     "text": [
      "[(3, 53, ' Private', 234721, ' 11th', 7, ' Married-civ-spouse', ' Handlers-cleaners', ' Husband', ' Black', ' Male', 0, 0, 40, ' United-States', ' <=50K'), (4, 28, ' Private', 338409, ' Bachelors', 13, ' Married-civ-spouse', ' Prof-specialty', ' Wife', ' Black', ' Female', 0, 0, 40, ' Cuba', ' <=50K'), (5, 37, ' Private', 284582, ' Masters', 14, ' Married-civ-spouse', ' Exec-managerial', ' Wife', ' White', ' Female', 0, 0, 40, ' United-States', ' <=50K'), (6, 49, ' Private', 160187, ' 9th', 5, ' Married-spouse-absent', ' Other-service', ' Not-in-family', ' Black', ' Female', 0, 0, 16, ' Jamaica', ' <=50K'), (8, 31, ' Private', 45781, ' Masters', 14, ' Never-married', ' Prof-specialty', ' Not-in-family', ' White', ' Female', 14084, 0, 50, ' United-States', ' >50K'), (9, 42, ' Private', 159449, ' Bachelors', 13, ' Married-civ-spouse', ' Exec-managerial', ' Husband', ' White', ' Male', 5178, 0, 40, ' United-States', ' >50K'), (10, 37, ' Private', 280464, ' Some-college', 10, ' Married-civ-spouse', ' Exec-managerial', ' Husband', ' Black', ' Male', 0, 0, 80, ' United-States', ' >50K'), (12, 23, ' Private', 122272, ' Bachelors', 13, ' Never-married', ' Adm-clerical', ' Own-child', ' White', ' Female', 0, 0, 30, ' United-States', ' <=50K'), (13, 32, ' Private', 205019, ' Assoc-acdm', 12, ' Never-married', ' Sales', ' Not-in-family', ' Black', ' Male', 0, 0, 50, ' United-States', ' <=50K'), (14, 40, ' Private', 121772, ' Assoc-voc', 11, ' Married-civ-spouse', ' Craft-repair', ' Husband', ' Asian-Pac-Islander', ' Male', 0, 0, 40, ' ?', ' >50K')]\n"
     ]
    }
   ],
   "source": [
    "print(engine.execute('''SELECT * FROM alchemynew WHERE LENGTH(workclass)==8 limit 10''').fetchall())"
   ]
  },
  {
   "cell_type": "markdown",
   "metadata": {},
   "source": [
    "b) using Upper function"
   ]
  },
  {
   "cell_type": "code",
   "execution_count": 19,
   "metadata": {},
   "outputs": [
    {
     "name": "stdout",
     "output_type": "stream",
     "text": [
      "[(' Male', ' MALE'), (' Male', ' MALE'), (' Female', ' FEMALE'), (' Female', ' FEMALE'), (' Female', ' FEMALE'), (' Male', ' MALE'), (' Female', ' FEMALE'), (' Male', ' MALE'), (' Male', ' MALE'), (' Male', ' MALE')]\n"
     ]
    }
   ],
   "source": [
    "print(engine.execute('''SELECT sex,upper(sex) FROM alchemynew limit 10''').fetchall())"
   ]
  },
  {
   "cell_type": "code",
   "execution_count": null,
   "metadata": {},
   "outputs": [],
   "source": []
  }
 ],
 "metadata": {
  "kernelspec": {
   "display_name": "Python 3",
   "language": "python",
   "name": "python3"
  },
  "language_info": {
   "codemirror_mode": {
    "name": "ipython",
    "version": 3
   },
   "file_extension": ".py",
   "mimetype": "text/x-python",
   "name": "python",
   "nbconvert_exporter": "python",
   "pygments_lexer": "ipython3",
   "version": "3.7.1"
  }
 },
 "nbformat": 4,
 "nbformat_minor": 2
}
